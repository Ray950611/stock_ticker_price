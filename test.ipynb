{
 "cells": [
  {
   "cell_type": "code",
   "execution_count": 1,
   "metadata": {
    "collapsed": true
   },
   "outputs": [],
   "source": [
    "from flask import Flask, render_template, request, redirect\n",
    "from bs4 import BeautifulSoup\n",
    "import requests\n",
    "import numpy as np\n",
    "import pandas as pd\n",
    "from bokeh.io import output_notebook\n",
    "a = pd.read_json(\"https://www.quandl.com/api/v3/datatables/WIKI/PRICES.json?ticker=AAPL&api_key=82ocY42PXsgZMnTGWcCD\",orient=\"table\")"
   ]
  },
  {
   "cell_type": "code",
   "execution_count": 2,
   "metadata": {
    "collapsed": true
   },
   "outputs": [],
   "source": [
    "table=a[\"datatable\"][\"data\"]"
   ]
  },
  {
   "cell_type": "code",
   "execution_count": 7,
   "metadata": {},
   "outputs": [],
   "source": [
    "from bokeh.resources import CDN,INLINE"
   ]
  },
  {
   "cell_type": "code",
   "execution_count": 8,
   "metadata": {
    "collapsed": true
   },
   "outputs": [],
   "source": [
    "c = 5\n",
    "o = 2\n",
    "h=3\n",
    "l=4\n",
    "X = []\n",
    "Y = []\n",
    "for i in range(22):\n",
    "    cur = table[-1-i]\n",
    "    cur_date = pd.to_datetime(str(cur[1])).date()\n",
    "    cur_price = float(cur[c])\n",
    "    X.insert(0,cur_date)\n",
    "    Y.insert(0,cur_price)\n"
   ]
  },
  {
   "cell_type": "code",
   "execution_count": 9,
   "metadata": {},
   "outputs": [
    {
     "data": {
      "text/plain": [
       "'\\n<script type=\"text/javascript\">\\n    (function() {\\n  var fn = function() {\\n    Bokeh.safely(function() {\\n      var docs_json = {\"386d985d-1b79-4853-a9b8-6e642e05353f\":{\"roots\":{\"references\":[{\"attributes\":{\"callback\":null},\"id\":\"f1c19dd8-d023-45d6-8d90-71901be57bc0\",\"type\":\"DataRange1d\"},{\"attributes\":{\"label\":{\"value\":\"AAPL:close\"},\"renderers\":[{\"id\":\"85a01e3d-3d93-4181-8585-8c225f6ac1d6\",\"type\":\"GlyphRenderer\"}]},\"id\":\"3b88a2fa-6d0f-472b-be7c-d62267b7c183\",\"type\":\"LegendItem\"},{\"attributes\":{\"plot\":{\"id\":\"0fadec60-f569-41a5-b8d1-95fb96e596d7\",\"subtype\":\"Figure\",\"type\":\"Plot\"}},\"id\":\"6766f378-4a40-4652-82ed-dd3a7fe65b6c\",\"type\":\"WheelZoomTool\"},{\"attributes\":{\"bottom_units\":\"screen\",\"fill_alpha\":{\"value\":0.5},\"fill_color\":{\"value\":\"lightgrey\"},\"left_units\":\"screen\",\"level\":\"overlay\",\"line_alpha\":{\"value\":1.0},\"line_color\":{\"value\":\"black\"},\"line_dash\":[4,4],\"line_width\":{\"value\":2},\"plot\":null,\"render_mode\":\"css\",\"right_units\":\"screen\",\"top_units\":\"screen\"},\"id\":\"16da4f4b-ccdc-47ce-ab38-b7fa6d783816\",\"type\":\"BoxAnnotation\"},{\"attributes\":{\"callback\":null},\"id\":\"66af5d03-258a-40b8-8183-261aebad8be9\",\"type\":\"DataRange1d\"},{\"attributes\":{\"plot\":{\"id\":\"0fadec60-f569-41a5-b8d1-95fb96e596d7\",\"subtype\":\"Figure\",\"type\":\"Plot\"}},\"id\":\"1bac57f6-6207-4557-b10e-cbda1f0ed468\",\"type\":\"ResetTool\"},{\"attributes\":{\"days\":[1,8,15,22]},\"id\":\"15b67740-c575-41d9-aa96-b7976ac3a150\",\"type\":\"DaysTicker\"},{\"attributes\":{\"plot\":{\"id\":\"0fadec60-f569-41a5-b8d1-95fb96e596d7\",\"subtype\":\"Figure\",\"type\":\"Plot\"}},\"id\":\"a72aef65-ac49-4fb0-a47d-c39136ba8d15\",\"type\":\"PanTool\"},{\"attributes\":{\"callback\":null,\"column_names\":[\"y\",\"x\"],\"data\":{\"x\":{\"__ndarray__\":\"AACAl2v9dUIAAED9vf11QgAAAGMQ/nVCAACALrX+dUIAAMBfrP91QgAAgMX+/3VCAABAK1EAdkIAAACRowB2QgAAwPb1AHZCAAAAKO0BdkIAAMCNPwJ2QgAAgPORAnZCAABAWeQCdkIAAAC/NgN2QgAAQPAtBHZCAAAAVoAEdkIAAMC70gR2QgAAgCElBXZCAABAh3cFdkIAAIC4bgZ2QgAAQB7BBnZCAAAAhBMHdkI=\",\"dtype\":\"float64\",\"shape\":[22]},\"y\":[169.98,173.14,174.96,174.97,174.09,173.07,169.48,171.85,171.05,169.8,169.64,169.01,169.452,169.37,172.67,171.7,172.27,172.22,173.87,176.42,174.54,174.35]}},\"id\":\"1eb6668b-9fe0-449b-a827-929616e7b5a4\",\"type\":\"ColumnDataSource\"},{\"attributes\":{\"months\":[0,2,4,6,8,10]},\"id\":\"7cc9b16e-b622-4d26-be55-2acf96a3ef79\",\"type\":\"MonthsTicker\"},{\"attributes\":{\"line_alpha\":{\"value\":0.1},\"line_color\":{\"value\":\"#1f77b4\"},\"line_width\":{\"value\":2},\"x\":{\"field\":\"x\"},\"y\":{\"field\":\"y\"}},\"id\":\"0dffbe1b-d23c-4af1-a60d-1f3d0100a5c8\",\"type\":\"Line\"},{\"attributes\":{},\"id\":\"70ab3e63-909f-4de4-a79e-42f7f360b0d8\",\"type\":\"DatetimeTickFormatter\"},{\"attributes\":{\"plot\":{\"id\":\"0fadec60-f569-41a5-b8d1-95fb96e596d7\",\"subtype\":\"Figure\",\"type\":\"Plot\"}},\"id\":\"c6728f1a-be32-4c77-b0b0-1cbeacf28b27\",\"type\":\"HelpTool\"},{\"attributes\":{\"days\":[1,15]},\"id\":\"a1c10a10-670f-43a0-a269-95ab533daf93\",\"type\":\"DaysTicker\"},{\"attributes\":{\"months\":[0,1,2,3,4,5,6,7,8,9,10,11]},\"id\":\"194af809-6084-4f6e-b427-96c0bbfa3823\",\"type\":\"MonthsTicker\"},{\"attributes\":{\"num_minor_ticks\":5},\"id\":\"0298e76f-9251-4c87-b2b2-9e97916e7c2d\",\"type\":\"DatetimeTicker\"},{\"attributes\":{\"days\":[1,4,7,10,13,16,19,22,25,28]},\"id\":\"aa04ee6f-cc60-4ce1-bcbd-9f46d6e70475\",\"type\":\"DaysTicker\"},{\"attributes\":{\"months\":[0,6]},\"id\":\"4d879e62-67e3-427c-9b59-d945fabf60f1\",\"type\":\"MonthsTicker\"},{\"attributes\":{},\"id\":\"ef6a5577-09bb-4a5f-98f0-4cf7f4a63dac\",\"type\":\"BasicTicker\"},{\"attributes\":{\"active_drag\":\"auto\",\"active_scroll\":\"auto\",\"active_tap\":\"auto\",\"tools\":[{\"id\":\"a72aef65-ac49-4fb0-a47d-c39136ba8d15\",\"type\":\"PanTool\"},{\"id\":\"6766f378-4a40-4652-82ed-dd3a7fe65b6c\",\"type\":\"WheelZoomTool\"},{\"id\":\"5b11a43a-f4e3-4b23-80bc-0956809d672e\",\"type\":\"BoxZoomTool\"},{\"id\":\"34f59084-c779-4a2f-b092-a7b472ba734c\",\"type\":\"SaveTool\"},{\"id\":\"1bac57f6-6207-4557-b10e-cbda1f0ed468\",\"type\":\"ResetTool\"},{\"id\":\"c6728f1a-be32-4c77-b0b0-1cbeacf28b27\",\"type\":\"HelpTool\"}]},\"id\":\"7a3db25f-44f0-4399-b64e-37a1a443b810\",\"type\":\"Toolbar\"},{\"attributes\":{},\"id\":\"e310e695-1898-4427-bc97-d0e1f89a02d7\",\"type\":\"ToolEvents\"},{\"attributes\":{\"data_source\":{\"id\":\"1eb6668b-9fe0-449b-a827-929616e7b5a4\",\"type\":\"ColumnDataSource\"},\"glyph\":{\"id\":\"41b796f4-3ef1-466e-ae85-a20c57ab8992\",\"type\":\"Line\"},\"hover_glyph\":null,\"nonselection_glyph\":{\"id\":\"0dffbe1b-d23c-4af1-a60d-1f3d0100a5c8\",\"type\":\"Line\"},\"selection_glyph\":null},\"id\":\"85a01e3d-3d93-4181-8585-8c225f6ac1d6\",\"type\":\"GlyphRenderer\"},{\"attributes\":{\"base\":24,\"mantissas\":[1,2,4,6,8,12],\"max_interval\":43200000.0,\"min_interval\":3600000.0,\"num_minor_ticks\":0},\"id\":\"33896fd5-3247-48f8-b598-629bc6c20372\",\"type\":\"AdaptiveTicker\"},{\"attributes\":{\"below\":[{\"id\":\"7f60cfbe-d8f8-4072-a1af-537839470d57\",\"type\":\"DatetimeAxis\"}],\"left\":[{\"id\":\"6e3ff66d-80a6-4f13-86aa-86b37f587c7b\",\"type\":\"LinearAxis\"}],\"plot_height\":250,\"plot_width\":800,\"renderers\":[{\"id\":\"7f60cfbe-d8f8-4072-a1af-537839470d57\",\"type\":\"DatetimeAxis\"},{\"id\":\"ebf7b9f3-7212-499e-969d-9be015d63d2a\",\"type\":\"Grid\"},{\"id\":\"6e3ff66d-80a6-4f13-86aa-86b37f587c7b\",\"type\":\"LinearAxis\"},{\"id\":\"3164146e-ae51-4591-a12e-41225efd6e14\",\"type\":\"Grid\"},{\"id\":\"16da4f4b-ccdc-47ce-ab38-b7fa6d783816\",\"type\":\"BoxAnnotation\"},{\"id\":\"c7d690f8-4960-428a-866b-8107f03b9956\",\"type\":\"Legend\"},{\"id\":\"85a01e3d-3d93-4181-8585-8c225f6ac1d6\",\"type\":\"GlyphRenderer\"}],\"title\":{\"id\":\"0ec27e1e-1b38-45de-afe5-ad00e514856a\",\"type\":\"Title\"},\"tool_events\":{\"id\":\"e310e695-1898-4427-bc97-d0e1f89a02d7\",\"type\":\"ToolEvents\"},\"toolbar\":{\"id\":\"7a3db25f-44f0-4399-b64e-37a1a443b810\",\"type\":\"Toolbar\"},\"x_range\":{\"id\":\"f1c19dd8-d023-45d6-8d90-71901be57bc0\",\"type\":\"DataRange1d\"},\"y_range\":{\"id\":\"66af5d03-258a-40b8-8183-261aebad8be9\",\"type\":\"DataRange1d\"}},\"id\":\"0fadec60-f569-41a5-b8d1-95fb96e596d7\",\"subtype\":\"Figure\",\"type\":\"Plot\"},{\"attributes\":{\"dimension\":1,\"plot\":{\"id\":\"0fadec60-f569-41a5-b8d1-95fb96e596d7\",\"subtype\":\"Figure\",\"type\":\"Plot\"},\"ticker\":{\"id\":\"ef6a5577-09bb-4a5f-98f0-4cf7f4a63dac\",\"type\":\"BasicTicker\"}},\"id\":\"3164146e-ae51-4591-a12e-41225efd6e14\",\"type\":\"Grid\"},{\"attributes\":{\"plot\":{\"id\":\"0fadec60-f569-41a5-b8d1-95fb96e596d7\",\"subtype\":\"Figure\",\"type\":\"Plot\"}},\"id\":\"34f59084-c779-4a2f-b092-a7b472ba734c\",\"type\":\"SaveTool\"},{\"attributes\":{\"max_interval\":500.0,\"num_minor_ticks\":0},\"id\":\"0d703e59-4f19-4493-bdf1-efa6d141f44d\",\"type\":\"AdaptiveTicker\"},{\"attributes\":{\"overlay\":{\"id\":\"16da4f4b-ccdc-47ce-ab38-b7fa6d783816\",\"type\":\"BoxAnnotation\"},\"plot\":{\"id\":\"0fadec60-f569-41a5-b8d1-95fb96e596d7\",\"subtype\":\"Figure\",\"type\":\"Plot\"}},\"id\":\"5b11a43a-f4e3-4b23-80bc-0956809d672e\",\"type\":\"BoxZoomTool\"},{\"attributes\":{\"months\":[0,4,8]},\"id\":\"774cd9b6-f23c-4b11-8e75-e5f5b3b7466d\",\"type\":\"MonthsTicker\"},{\"attributes\":{},\"id\":\"d3df40c5-2b11-4628-b7e4-e272224fa4d4\",\"type\":\"YearsTicker\"},{\"attributes\":{\"formatter\":{\"id\":\"70ab3e63-909f-4de4-a79e-42f7f360b0d8\",\"type\":\"DatetimeTickFormatter\"},\"plot\":{\"id\":\"0fadec60-f569-41a5-b8d1-95fb96e596d7\",\"subtype\":\"Figure\",\"type\":\"Plot\"},\"ticker\":{\"id\":\"0298e76f-9251-4c87-b2b2-9e97916e7c2d\",\"type\":\"DatetimeTicker\"}},\"id\":\"7f60cfbe-d8f8-4072-a1af-537839470d57\",\"type\":\"DatetimeAxis\"},{\"attributes\":{\"plot\":null,\"text\":\"Quandl WIKI Stock Prices 2017\"},\"id\":\"0ec27e1e-1b38-45de-afe5-ad00e514856a\",\"type\":\"Title\"},{\"attributes\":{\"line_color\":{\"value\":\"#1f77b4\"},\"line_width\":{\"value\":2},\"x\":{\"field\":\"x\"},\"y\":{\"field\":\"y\"}},\"id\":\"41b796f4-3ef1-466e-ae85-a20c57ab8992\",\"type\":\"Line\"},{\"attributes\":{\"formatter\":{\"id\":\"6ba5511b-565f-4232-a3bc-506d471e6547\",\"type\":\"BasicTickFormatter\"},\"plot\":{\"id\":\"0fadec60-f569-41a5-b8d1-95fb96e596d7\",\"subtype\":\"Figure\",\"type\":\"Plot\"},\"ticker\":{\"id\":\"ef6a5577-09bb-4a5f-98f0-4cf7f4a63dac\",\"type\":\"BasicTicker\"}},\"id\":\"6e3ff66d-80a6-4f13-86aa-86b37f587c7b\",\"type\":\"LinearAxis\"},{\"attributes\":{\"items\":[{\"id\":\"3b88a2fa-6d0f-472b-be7c-d62267b7c183\",\"type\":\"LegendItem\"}],\"plot\":{\"id\":\"0fadec60-f569-41a5-b8d1-95fb96e596d7\",\"subtype\":\"Figure\",\"type\":\"Plot\"}},\"id\":\"c7d690f8-4960-428a-866b-8107f03b9956\",\"type\":\"Legend\"},{\"attributes\":{\"days\":[1,2,3,4,5,6,7,8,9,10,11,12,13,14,15,16,17,18,19,20,21,22,23,24,25,26,27,28,29,30,31]},\"id\":\"8e7686a1-ae17-43e9-9b86-f98dd93966f3\",\"type\":\"DaysTicker\"},{\"attributes\":{\"base\":60,\"mantissas\":[1,2,5,10,15,20,30],\"max_interval\":1800000.0,\"min_interval\":1000.0,\"num_minor_ticks\":0},\"id\":\"6f2c3509-dc29-40c1-9489-add7a6d41ab3\",\"type\":\"AdaptiveTicker\"},{\"attributes\":{\"plot\":{\"id\":\"0fadec60-f569-41a5-b8d1-95fb96e596d7\",\"subtype\":\"Figure\",\"type\":\"Plot\"},\"ticker\":{\"id\":\"0298e76f-9251-4c87-b2b2-9e97916e7c2d\",\"type\":\"DatetimeTicker\"}},\"id\":\"ebf7b9f3-7212-499e-969d-9be015d63d2a\",\"type\":\"Grid\"},{\"attributes\":{},\"id\":\"6ba5511b-565f-4232-a3bc-506d471e6547\",\"type\":\"BasicTickFormatter\"}],\"root_ids\":[\"0fadec60-f569-41a5-b8d1-95fb96e596d7\"]},\"title\":\"Bokeh Application\",\"version\":\"0.12.4\"}};\\n      var render_items = [{\"docid\":\"386d985d-1b79-4853-a9b8-6e642e05353f\",\"elementid\":\"f09f690d-8f9d-426d-a745-a78d128b848f\",\"modelid\":\"0fadec60-f569-41a5-b8d1-95fb96e596d7\"}];\\n      \\n      Bokeh.embed.embed_items(docs_json, render_items);\\n    });\\n  };\\n  if (document.readyState != \"loading\") fn();\\n  else document.addEventListener(\"DOMContentLoaded\", fn);\\n})();\\n\\n</script>'"
      ]
     },
     "execution_count": 9,
     "metadata": {},
     "output_type": "execute_result"
    }
   ],
   "source": [
    "from bokeh.plotting import figure, output_file, show\n",
    "from bokeh.embed import components\n",
    "\n",
    "p = figure(title=\"Quandl WIKI Stock Prices 2017\",plot_width=800, plot_height=250, x_axis_type=\"datetime\")\n",
    "\n",
    "# add a line renderer\n",
    "p.line(pd.to_datetime(X), Y, legend=\"AAPL:close\", line_width=2)\n",
    "components(p)[0]"
   ]
  },
  {
   "cell_type": "code",
   "execution_count": 288,
   "metadata": {},
   "outputs": [
    {
     "data": {
      "text/html": [
       "\n",
       "    <div class=\"bk-root\">\n",
       "        <a href=\"http://bokeh.pydata.org\" target=\"_blank\" class=\"bk-logo bk-logo-small bk-logo-notebook\"></a>\n",
       "        <span id=\"605159c2-d85e-4051-93f1-395d7777943e\">Loading BokehJS ...</span>\n",
       "    </div>"
      ]
     },
     "metadata": {},
     "output_type": "display_data"
    },
    {
     "data": {
      "application/javascript": [
       "\n",
       "(function(global) {\n",
       "  function now() {\n",
       "    return new Date();\n",
       "  }\n",
       "\n",
       "  var force = true;\n",
       "\n",
       "  if (typeof (window._bokeh_onload_callbacks) === \"undefined\" || force === true) {\n",
       "    window._bokeh_onload_callbacks = [];\n",
       "    window._bokeh_is_loading = undefined;\n",
       "  }\n",
       "\n",
       "\n",
       "  \n",
       "  if (typeof (window._bokeh_timeout) === \"undefined\" || force === true) {\n",
       "    window._bokeh_timeout = Date.now() + 5000;\n",
       "    window._bokeh_failed_load = false;\n",
       "  }\n",
       "\n",
       "  var NB_LOAD_WARNING = {'data': {'text/html':\n",
       "     \"<div style='background-color: #fdd'>\\n\"+\n",
       "     \"<p>\\n\"+\n",
       "     \"BokehJS does not appear to have successfully loaded. If loading BokehJS from CDN, this \\n\"+\n",
       "     \"may be due to a slow or bad network connection. Possible fixes:\\n\"+\n",
       "     \"</p>\\n\"+\n",
       "     \"<ul>\\n\"+\n",
       "     \"<li>re-rerun `output_notebook()` to attempt to load from CDN again, or</li>\\n\"+\n",
       "     \"<li>use INLINE resources instead, as so:</li>\\n\"+\n",
       "     \"</ul>\\n\"+\n",
       "     \"<code>\\n\"+\n",
       "     \"from bokeh.resources import INLINE\\n\"+\n",
       "     \"output_notebook(resources=INLINE)\\n\"+\n",
       "     \"</code>\\n\"+\n",
       "     \"</div>\"}};\n",
       "\n",
       "  function display_loaded() {\n",
       "    if (window.Bokeh !== undefined) {\n",
       "      document.getElementById(\"605159c2-d85e-4051-93f1-395d7777943e\").textContent = \"BokehJS successfully loaded.\";\n",
       "    } else if (Date.now() < window._bokeh_timeout) {\n",
       "      setTimeout(display_loaded, 100)\n",
       "    }\n",
       "  }\n",
       "\n",
       "  function run_callbacks() {\n",
       "    window._bokeh_onload_callbacks.forEach(function(callback) { callback() });\n",
       "    delete window._bokeh_onload_callbacks\n",
       "    console.info(\"Bokeh: all callbacks have finished\");\n",
       "  }\n",
       "\n",
       "  function load_libs(js_urls, callback) {\n",
       "    window._bokeh_onload_callbacks.push(callback);\n",
       "    if (window._bokeh_is_loading > 0) {\n",
       "      console.log(\"Bokeh: BokehJS is being loaded, scheduling callback at\", now());\n",
       "      return null;\n",
       "    }\n",
       "    if (js_urls == null || js_urls.length === 0) {\n",
       "      run_callbacks();\n",
       "      return null;\n",
       "    }\n",
       "    console.log(\"Bokeh: BokehJS not loaded, scheduling load and callback at\", now());\n",
       "    window._bokeh_is_loading = js_urls.length;\n",
       "    for (var i = 0; i < js_urls.length; i++) {\n",
       "      var url = js_urls[i];\n",
       "      var s = document.createElement('script');\n",
       "      s.src = url;\n",
       "      s.async = false;\n",
       "      s.onreadystatechange = s.onload = function() {\n",
       "        window._bokeh_is_loading--;\n",
       "        if (window._bokeh_is_loading === 0) {\n",
       "          console.log(\"Bokeh: all BokehJS libraries loaded\");\n",
       "          run_callbacks()\n",
       "        }\n",
       "      };\n",
       "      s.onerror = function() {\n",
       "        console.warn(\"failed to load library \" + url);\n",
       "      };\n",
       "      console.log(\"Bokeh: injecting script tag for BokehJS library: \", url);\n",
       "      document.getElementsByTagName(\"head\")[0].appendChild(s);\n",
       "    }\n",
       "  };var element = document.getElementById(\"605159c2-d85e-4051-93f1-395d7777943e\");\n",
       "  if (element == null) {\n",
       "    console.log(\"Bokeh: ERROR: autoload.js configured with elementid '605159c2-d85e-4051-93f1-395d7777943e' but no matching script tag was found. \")\n",
       "    return false;\n",
       "  }\n",
       "\n",
       "  var js_urls = [\"https://cdn.pydata.org/bokeh/release/bokeh-0.12.4.min.js\", \"https://cdn.pydata.org/bokeh/release/bokeh-widgets-0.12.4.min.js\"];\n",
       "\n",
       "  var inline_js = [\n",
       "    function(Bokeh) {\n",
       "      Bokeh.set_log_level(\"info\");\n",
       "    },\n",
       "    \n",
       "    function(Bokeh) {\n",
       "      \n",
       "      document.getElementById(\"605159c2-d85e-4051-93f1-395d7777943e\").textContent = \"BokehJS is loading...\";\n",
       "    },\n",
       "    function(Bokeh) {\n",
       "      console.log(\"Bokeh: injecting CSS: https://cdn.pydata.org/bokeh/release/bokeh-0.12.4.min.css\");\n",
       "      Bokeh.embed.inject_css(\"https://cdn.pydata.org/bokeh/release/bokeh-0.12.4.min.css\");\n",
       "      console.log(\"Bokeh: injecting CSS: https://cdn.pydata.org/bokeh/release/bokeh-widgets-0.12.4.min.css\");\n",
       "      Bokeh.embed.inject_css(\"https://cdn.pydata.org/bokeh/release/bokeh-widgets-0.12.4.min.css\");\n",
       "    }\n",
       "  ];\n",
       "\n",
       "  function run_inline_js() {\n",
       "    \n",
       "    if ((window.Bokeh !== undefined) || (force === true)) {\n",
       "      for (var i = 0; i < inline_js.length; i++) {\n",
       "        inline_js[i](window.Bokeh);\n",
       "      }if (force === true) {\n",
       "        display_loaded();\n",
       "      }} else if (Date.now() < window._bokeh_timeout) {\n",
       "      setTimeout(run_inline_js, 100);\n",
       "    } else if (!window._bokeh_failed_load) {\n",
       "      console.log(\"Bokeh: BokehJS failed to load within specified timeout.\");\n",
       "      window._bokeh_failed_load = true;\n",
       "    } else if (force !== true) {\n",
       "      var cell = $(document.getElementById(\"605159c2-d85e-4051-93f1-395d7777943e\")).parents('.cell').data().cell;\n",
       "      cell.output_area.append_execute_result(NB_LOAD_WARNING)\n",
       "    }\n",
       "\n",
       "  }\n",
       "\n",
       "  if (window._bokeh_is_loading === 0) {\n",
       "    console.log(\"Bokeh: BokehJS loaded, going straight to plotting\");\n",
       "    run_inline_js();\n",
       "  } else {\n",
       "    load_libs(js_urls, function() {\n",
       "      console.log(\"Bokeh: BokehJS plotting callback run at\", now());\n",
       "      run_inline_js();\n",
       "    });\n",
       "  }\n",
       "}(this));"
      ]
     },
     "metadata": {},
     "output_type": "display_data"
    }
   ],
   "source": [
    "output_notebook()"
   ]
  },
  {
   "cell_type": "code",
   "execution_count": 7,
   "metadata": {},
   "outputs": [
    {
     "data": {
      "text/html": [
       "<div style=\"display: table;\"><div style=\"display: table-row;\"><div style=\"display: table-cell;\"><b title=\"bokeh.plotting.figure.Figure\">Figure</b>(</div><div style=\"display: table-cell;\">id&nbsp;=&nbsp;'d8ed1883-cc26-4bb1-9afe-b380660328b6', <span id=\"612448f8-9b76-437e-9839-63e4af072922\" style=\"cursor: pointer;\">&hellip;)</span></div></div><div class=\"205c2618-7310-47f7-aafc-d139ecb1dce7\" style=\"display: none;\"><div style=\"display: table-cell;\"></div><div style=\"display: table-cell;\">above&nbsp;=&nbsp;[],</div></div><div class=\"205c2618-7310-47f7-aafc-d139ecb1dce7\" style=\"display: none;\"><div style=\"display: table-cell;\"></div><div style=\"display: table-cell;\">background_fill_alpha&nbsp;=&nbsp;{'value': 1.0},</div></div><div class=\"205c2618-7310-47f7-aafc-d139ecb1dce7\" style=\"display: none;\"><div style=\"display: table-cell;\"></div><div style=\"display: table-cell;\">background_fill_color&nbsp;=&nbsp;{'value': '#ffffff'},</div></div><div class=\"205c2618-7310-47f7-aafc-d139ecb1dce7\" style=\"display: none;\"><div style=\"display: table-cell;\"></div><div style=\"display: table-cell;\">below&nbsp;=&nbsp;[DatetimeAxis(id='9f31c9f0-fc5e-4214-bf00-75e1b2d00b02', ...)],</div></div><div class=\"205c2618-7310-47f7-aafc-d139ecb1dce7\" style=\"display: none;\"><div style=\"display: table-cell;\"></div><div style=\"display: table-cell;\">border_fill_alpha&nbsp;=&nbsp;{'value': 1.0},</div></div><div class=\"205c2618-7310-47f7-aafc-d139ecb1dce7\" style=\"display: none;\"><div style=\"display: table-cell;\"></div><div style=\"display: table-cell;\">border_fill_color&nbsp;=&nbsp;{'value': '#ffffff'},</div></div><div class=\"205c2618-7310-47f7-aafc-d139ecb1dce7\" style=\"display: none;\"><div style=\"display: table-cell;\"></div><div style=\"display: table-cell;\">css_classes&nbsp;=&nbsp;None,</div></div><div class=\"205c2618-7310-47f7-aafc-d139ecb1dce7\" style=\"display: none;\"><div style=\"display: table-cell;\"></div><div style=\"display: table-cell;\">disabled&nbsp;=&nbsp;False,</div></div><div class=\"205c2618-7310-47f7-aafc-d139ecb1dce7\" style=\"display: none;\"><div style=\"display: table-cell;\"></div><div style=\"display: table-cell;\">extra_x_ranges&nbsp;=&nbsp;{},</div></div><div class=\"205c2618-7310-47f7-aafc-d139ecb1dce7\" style=\"display: none;\"><div style=\"display: table-cell;\"></div><div style=\"display: table-cell;\">extra_y_ranges&nbsp;=&nbsp;{},</div></div><div class=\"205c2618-7310-47f7-aafc-d139ecb1dce7\" style=\"display: none;\"><div style=\"display: table-cell;\"></div><div style=\"display: table-cell;\">h_symmetry&nbsp;=&nbsp;True,</div></div><div class=\"205c2618-7310-47f7-aafc-d139ecb1dce7\" style=\"display: none;\"><div style=\"display: table-cell;\"></div><div style=\"display: table-cell;\">height&nbsp;=&nbsp;None,</div></div><div class=\"205c2618-7310-47f7-aafc-d139ecb1dce7\" style=\"display: none;\"><div style=\"display: table-cell;\"></div><div style=\"display: table-cell;\">hidpi&nbsp;=&nbsp;True,</div></div><div class=\"205c2618-7310-47f7-aafc-d139ecb1dce7\" style=\"display: none;\"><div style=\"display: table-cell;\"></div><div style=\"display: table-cell;\">js_callbacks&nbsp;=&nbsp;{},</div></div><div class=\"205c2618-7310-47f7-aafc-d139ecb1dce7\" style=\"display: none;\"><div style=\"display: table-cell;\"></div><div style=\"display: table-cell;\">left&nbsp;=&nbsp;[LinearAxis(id='a4073f41-8678-4a6f-ac25-b22374ca6430', ...)],</div></div><div class=\"205c2618-7310-47f7-aafc-d139ecb1dce7\" style=\"display: none;\"><div style=\"display: table-cell;\"></div><div style=\"display: table-cell;\">lod_factor&nbsp;=&nbsp;10,</div></div><div class=\"205c2618-7310-47f7-aafc-d139ecb1dce7\" style=\"display: none;\"><div style=\"display: table-cell;\"></div><div style=\"display: table-cell;\">lod_interval&nbsp;=&nbsp;300,</div></div><div class=\"205c2618-7310-47f7-aafc-d139ecb1dce7\" style=\"display: none;\"><div style=\"display: table-cell;\"></div><div style=\"display: table-cell;\">lod_threshold&nbsp;=&nbsp;2000,</div></div><div class=\"205c2618-7310-47f7-aafc-d139ecb1dce7\" style=\"display: none;\"><div style=\"display: table-cell;\"></div><div style=\"display: table-cell;\">lod_timeout&nbsp;=&nbsp;500,</div></div><div class=\"205c2618-7310-47f7-aafc-d139ecb1dce7\" style=\"display: none;\"><div style=\"display: table-cell;\"></div><div style=\"display: table-cell;\">min_border&nbsp;=&nbsp;5,</div></div><div class=\"205c2618-7310-47f7-aafc-d139ecb1dce7\" style=\"display: none;\"><div style=\"display: table-cell;\"></div><div style=\"display: table-cell;\">min_border_bottom&nbsp;=&nbsp;None,</div></div><div class=\"205c2618-7310-47f7-aafc-d139ecb1dce7\" style=\"display: none;\"><div style=\"display: table-cell;\"></div><div style=\"display: table-cell;\">min_border_left&nbsp;=&nbsp;None,</div></div><div class=\"205c2618-7310-47f7-aafc-d139ecb1dce7\" style=\"display: none;\"><div style=\"display: table-cell;\"></div><div style=\"display: table-cell;\">min_border_right&nbsp;=&nbsp;None,</div></div><div class=\"205c2618-7310-47f7-aafc-d139ecb1dce7\" style=\"display: none;\"><div style=\"display: table-cell;\"></div><div style=\"display: table-cell;\">min_border_top&nbsp;=&nbsp;None,</div></div><div class=\"205c2618-7310-47f7-aafc-d139ecb1dce7\" style=\"display: none;\"><div style=\"display: table-cell;\"></div><div style=\"display: table-cell;\">name&nbsp;=&nbsp;None,</div></div><div class=\"205c2618-7310-47f7-aafc-d139ecb1dce7\" style=\"display: none;\"><div style=\"display: table-cell;\"></div><div style=\"display: table-cell;\">outline_line_alpha&nbsp;=&nbsp;{'value': 1.0},</div></div><div class=\"205c2618-7310-47f7-aafc-d139ecb1dce7\" style=\"display: none;\"><div style=\"display: table-cell;\"></div><div style=\"display: table-cell;\">outline_line_cap&nbsp;=&nbsp;'butt',</div></div><div class=\"205c2618-7310-47f7-aafc-d139ecb1dce7\" style=\"display: none;\"><div style=\"display: table-cell;\"></div><div style=\"display: table-cell;\">outline_line_color&nbsp;=&nbsp;{'value': '#e5e5e5'},</div></div><div class=\"205c2618-7310-47f7-aafc-d139ecb1dce7\" style=\"display: none;\"><div style=\"display: table-cell;\"></div><div style=\"display: table-cell;\">outline_line_dash&nbsp;=&nbsp;[],</div></div><div class=\"205c2618-7310-47f7-aafc-d139ecb1dce7\" style=\"display: none;\"><div style=\"display: table-cell;\"></div><div style=\"display: table-cell;\">outline_line_dash_offset&nbsp;=&nbsp;0,</div></div><div class=\"205c2618-7310-47f7-aafc-d139ecb1dce7\" style=\"display: none;\"><div style=\"display: table-cell;\"></div><div style=\"display: table-cell;\">outline_line_join&nbsp;=&nbsp;'miter',</div></div><div class=\"205c2618-7310-47f7-aafc-d139ecb1dce7\" style=\"display: none;\"><div style=\"display: table-cell;\"></div><div style=\"display: table-cell;\">outline_line_width&nbsp;=&nbsp;{'value': 1},</div></div><div class=\"205c2618-7310-47f7-aafc-d139ecb1dce7\" style=\"display: none;\"><div style=\"display: table-cell;\"></div><div style=\"display: table-cell;\">plot_height&nbsp;=&nbsp;250,</div></div><div class=\"205c2618-7310-47f7-aafc-d139ecb1dce7\" style=\"display: none;\"><div style=\"display: table-cell;\"></div><div style=\"display: table-cell;\">plot_width&nbsp;=&nbsp;800,</div></div><div class=\"205c2618-7310-47f7-aafc-d139ecb1dce7\" style=\"display: none;\"><div style=\"display: table-cell;\"></div><div style=\"display: table-cell;\">renderers&nbsp;=&nbsp;[DatetimeAxis(id='9f31c9f0-fc5e-4214-bf00-75e1b2d00b02', ...), Grid(id='2c30391e-b1cf-4cb3-8d0c-4e4d70ce489a', ...), LinearAxis(id='a4073f41-8678-4a6f-ac25-b22374ca6430', ...), Grid(id='a51c7daa-601a-4b25-8507-25dcf7f789d3', ...), BoxAnnotation(id='b3488f5f-f802-4571-bcf1-7399d669a9e1', ...), Legend(id='782ab778-ca50-4fb7-a733-80b3dc8cd1d4', ...), GlyphRenderer(id='2e94fce1-f6f9-4c25-ad05-fc4b677cdea7', ...)],</div></div><div class=\"205c2618-7310-47f7-aafc-d139ecb1dce7\" style=\"display: none;\"><div style=\"display: table-cell;\"></div><div style=\"display: table-cell;\">right&nbsp;=&nbsp;[],</div></div><div class=\"205c2618-7310-47f7-aafc-d139ecb1dce7\" style=\"display: none;\"><div style=\"display: table-cell;\"></div><div style=\"display: table-cell;\">sizing_mode&nbsp;=&nbsp;'fixed',</div></div><div class=\"205c2618-7310-47f7-aafc-d139ecb1dce7\" style=\"display: none;\"><div style=\"display: table-cell;\"></div><div style=\"display: table-cell;\">tags&nbsp;=&nbsp;[],</div></div><div class=\"205c2618-7310-47f7-aafc-d139ecb1dce7\" style=\"display: none;\"><div style=\"display: table-cell;\"></div><div style=\"display: table-cell;\">title&nbsp;=&nbsp;Title(id='b6d67a66-97d8-4854-8736-f8c8b9cfe1a5', ...),</div></div><div class=\"205c2618-7310-47f7-aafc-d139ecb1dce7\" style=\"display: none;\"><div style=\"display: table-cell;\"></div><div style=\"display: table-cell;\">title_location&nbsp;=&nbsp;'above',</div></div><div class=\"205c2618-7310-47f7-aafc-d139ecb1dce7\" style=\"display: none;\"><div style=\"display: table-cell;\"></div><div style=\"display: table-cell;\">tool_events&nbsp;=&nbsp;ToolEvents(id='1151b7f6-3d8a-4c8b-ab02-76b9af27ac4d', ...),</div></div><div class=\"205c2618-7310-47f7-aafc-d139ecb1dce7\" style=\"display: none;\"><div style=\"display: table-cell;\"></div><div style=\"display: table-cell;\">toolbar&nbsp;=&nbsp;Toolbar(id='c9b42e37-b98b-48d2-b2f3-10e648f21d8b', ...),</div></div><div class=\"205c2618-7310-47f7-aafc-d139ecb1dce7\" style=\"display: none;\"><div style=\"display: table-cell;\"></div><div style=\"display: table-cell;\">toolbar_location&nbsp;=&nbsp;'right',</div></div><div class=\"205c2618-7310-47f7-aafc-d139ecb1dce7\" style=\"display: none;\"><div style=\"display: table-cell;\"></div><div style=\"display: table-cell;\">toolbar_sticky&nbsp;=&nbsp;True,</div></div><div class=\"205c2618-7310-47f7-aafc-d139ecb1dce7\" style=\"display: none;\"><div style=\"display: table-cell;\"></div><div style=\"display: table-cell;\">v_symmetry&nbsp;=&nbsp;False,</div></div><div class=\"205c2618-7310-47f7-aafc-d139ecb1dce7\" style=\"display: none;\"><div style=\"display: table-cell;\"></div><div style=\"display: table-cell;\">webgl&nbsp;=&nbsp;False,</div></div><div class=\"205c2618-7310-47f7-aafc-d139ecb1dce7\" style=\"display: none;\"><div style=\"display: table-cell;\"></div><div style=\"display: table-cell;\">width&nbsp;=&nbsp;None,</div></div><div class=\"205c2618-7310-47f7-aafc-d139ecb1dce7\" style=\"display: none;\"><div style=\"display: table-cell;\"></div><div style=\"display: table-cell;\">x_mapper_type&nbsp;=&nbsp;'auto',</div></div><div class=\"205c2618-7310-47f7-aafc-d139ecb1dce7\" style=\"display: none;\"><div style=\"display: table-cell;\"></div><div style=\"display: table-cell;\">x_range&nbsp;=&nbsp;DataRange1d(id='e98e573b-94e5-4f0e-98f6-9bde66805b60', ...),</div></div><div class=\"205c2618-7310-47f7-aafc-d139ecb1dce7\" style=\"display: none;\"><div style=\"display: table-cell;\"></div><div style=\"display: table-cell;\">y_mapper_type&nbsp;=&nbsp;'auto',</div></div><div class=\"205c2618-7310-47f7-aafc-d139ecb1dce7\" style=\"display: none;\"><div style=\"display: table-cell;\"></div><div style=\"display: table-cell;\">y_range&nbsp;=&nbsp;DataRange1d(id='a9a8ad79-731e-471e-b0c4-0c6739e6031a', ...))</div></div></div>\n",
       "<script>\n",
       "(function() {\n",
       "  var expanded = false;\n",
       "  var ellipsis = document.getElementById(\"612448f8-9b76-437e-9839-63e4af072922\");\n",
       "  ellipsis.addEventListener(\"click\", function() {\n",
       "    var rows = document.getElementsByClassName(\"205c2618-7310-47f7-aafc-d139ecb1dce7\");\n",
       "    for (var i = 0; i < rows.length; i++) {\n",
       "      var el = rows[i];\n",
       "      el.style.display = expanded ? \"none\" : \"table-row\";\n",
       "    }\n",
       "    ellipsis.innerHTML = expanded ? \"&hellip;)\" : \"&lsaquo;&lsaquo;&lsaquo;\";\n",
       "    expanded = !expanded;\n",
       "  });\n",
       "})();\n",
       "</script>\n"
      ],
      "text/plain": [
       "Figure(id='d8ed1883-cc26-4bb1-9afe-b380660328b6', ...)"
      ]
     },
     "execution_count": 7,
     "metadata": {},
     "output_type": "execute_result"
    }
   ],
   "source": [
    "p"
   ]
  },
  {
   "cell_type": "code",
   "execution_count": 284,
   "metadata": {},
   "outputs": [],
   "source": [
    "div=div.replace(\"\\n\",\"\")\n",
    "div = div.replace(\" \",\"\")"
   ]
  },
  {
   "cell_type": "code",
   "execution_count": 285,
   "metadata": {},
   "outputs": [
    {
     "data": {
      "text/plain": [
       "'<divclass=\"bk-root\"><divclass=\"bk-plotdiv\"id=\"7ea75ba1-ba88-492a-944d-804fa28ba268\"></div></div>'"
      ]
     },
     "execution_count": 285,
     "metadata": {},
     "output_type": "execute_result"
    }
   ],
   "source": [
    "str(div)"
   ]
  },
  {
   "cell_type": "code",
   "execution_count": 287,
   "metadata": {},
   "outputs": [
    {
     "data": {
      "text/plain": [
       "'<scripttype=\"text/javascript\">(function(){varfn=function(){Bokeh.safely(function(){vardocs_json={\"5aa065b8-54b2-4db1-98d7-87deb33fd37d\":{\"roots\":{\"references\":[{\"attributes\":{\"below\":[{\"id\":\"51c850b0-ac0d-4319-9a73-a58d31c6e163\",\"type\":\"DatetimeAxis\"}],\"left\":[{\"id\":\"cbbbc0e2-078d-42b4-af8e-476bf6fa3b3b\",\"type\":\"LinearAxis\"}],\"plot_height\":250,\"plot_width\":800,\"renderers\":[{\"id\":\"51c850b0-ac0d-4319-9a73-a58d31c6e163\",\"type\":\"DatetimeAxis\"},{\"id\":\"e596f3c9-768a-4c46-8af7-7172a9cea94f\",\"type\":\"Grid\"},{\"id\":\"cbbbc0e2-078d-42b4-af8e-476bf6fa3b3b\",\"type\":\"LinearAxis\"},{\"id\":\"b3ebe9c4-5ffa-4c3d-a81a-a5feb590066b\",\"type\":\"Grid\"},{\"id\":\"9a008abc-b9a4-40e1-8b75-008139bca224\",\"type\":\"BoxAnnotation\"},{\"id\":\"a9745714-218b-45b8-ba46-3ba8fcd68189\",\"type\":\"Legend\"},{\"id\":\"aad2f603-5aa1-4ea5-b04d-858bacb10523\",\"type\":\"GlyphRenderer\"}],\"title\":{\"id\":\"e0226591-3f1a-4658-9d4f-1b081e5fafc6\",\"type\":\"Title\"},\"tool_events\":{\"id\":\"0ced6527-23c7-48e3-a399-eed8f46c556b\",\"type\":\"ToolEvents\"},\"toolbar\":{\"id\":\"45f05abd-78a1-4ac0-ae62-a5918f352ef9\",\"type\":\"Toolbar\"},\"x_range\":{\"id\":\"8c021a8e-e53b-438f-8790-04439b30229e\",\"type\":\"DataRange1d\"},\"y_range\":{\"id\":\"94d3b6f6-369c-412e-bc3e-f5d051491e32\",\"type\":\"DataRange1d\"}},\"id\":\"a52f5900-27e9-465e-b993-b318dab0687e\",\"subtype\":\"Figure\",\"type\":\"Plot\"},{\"attributes\":{\"plot\":{\"id\":\"a52f5900-27e9-465e-b993-b318dab0687e\",\"subtype\":\"Figure\",\"type\":\"Plot\"}},\"id\":\"25e9f525-f87a-41b9-8298-f31ecc03b734\",\"type\":\"WheelZoomTool\"},{\"attributes\":{\"line_color\":{\"value\":\"#1f77b4\"},\"line_width\":{\"value\":2},\"x\":{\"field\":\"x\"},\"y\":{\"field\":\"y\"}},\"id\":\"cef75166-503a-430e-8855-94eae4fd5983\",\"type\":\"Line\"},{\"attributes\":{\"days\":[1,4,7,10,13,16,19,22,25,28]},\"id\":\"90ad68b4-190a-4bdb-b166-80e84493feff\",\"type\":\"DaysTicker\"},{\"attributes\":{},\"id\":\"bdd8f399-dc33-48e9-8acc-e262faf3a44f\",\"type\":\"YearsTicker\"},{\"attributes\":{\"plot\":{\"id\":\"a52f5900-27e9-465e-b993-b318dab0687e\",\"subtype\":\"Figure\",\"type\":\"Plot\"}},\"id\":\"0c017cdf-7fb3-4070-bd4c-629665ebacaa\",\"type\":\"HelpTool\"},{\"attributes\":{\"plot\":{\"id\":\"a52f5900-27e9-465e-b993-b318dab0687e\",\"subtype\":\"Figure\",\"type\":\"Plot\"},\"ticker\":{\"id\":\"f93a659f-f4c3-4b13-a59f-e64bb16e31b2\",\"type\":\"DatetimeTicker\"}},\"id\":\"e596f3c9-768a-4c46-8af7-7172a9cea94f\",\"type\":\"Grid\"},{\"attributes\":{\"overlay\":{\"id\":\"9a008abc-b9a4-40e1-8b75-008139bca224\",\"type\":\"BoxAnnotation\"},\"plot\":{\"id\":\"a52f5900-27e9-465e-b993-b318dab0687e\",\"subtype\":\"Figure\",\"type\":\"Plot\"}},\"id\":\"97b662a5-b17f-4606-9ab6-990b0a36b01f\",\"type\":\"BoxZoomTool\"},{\"attributes\":{},\"id\":\"0ced6527-23c7-48e3-a399-eed8f46c556b\",\"type\":\"ToolEvents\"},{\"attributes\":{\"plot\":{\"id\":\"a52f5900-27e9-465e-b993-b318dab0687e\",\"subtype\":\"Figure\",\"type\":\"Plot\"}},\"id\":\"3cc30616-3587-4262-be2c-e857511e5428\",\"type\":\"ResetTool\"},{\"attributes\":{\"active_drag\":\"auto\",\"active_scroll\":\"auto\",\"active_tap\":\"auto\",\"tools\":[{\"id\":\"be538a26-2b6d-45dc-965c-d3822ba1e723\",\"type\":\"PanTool\"},{\"id\":\"25e9f525-f87a-41b9-8298-f31ecc03b734\",\"type\":\"WheelZoomTool\"},{\"id\":\"97b662a5-b17f-4606-9ab6-990b0a36b01f\",\"type\":\"BoxZoomTool\"},{\"id\":\"141db408-34ed-43cf-853c-cb829f734059\",\"type\":\"SaveTool\"},{\"id\":\"3cc30616-3587-4262-be2c-e857511e5428\",\"type\":\"ResetTool\"},{\"id\":\"0c017cdf-7fb3-4070-bd4c-629665ebacaa\",\"type\":\"HelpTool\"}]},\"id\":\"45f05abd-78a1-4ac0-ae62-a5918f352ef9\",\"type\":\"Toolbar\"},{\"attributes\":{\"num_minor_ticks\":5},\"id\":\"f93a659f-f4c3-4b13-a59f-e64bb16e31b2\",\"type\":\"DatetimeTicker\"},{\"attributes\":{\"base\":60,\"mantissas\":[1,2,5,10,15,20,30],\"max_interval\":1800000.0,\"min_interval\":1000.0,\"num_minor_ticks\":0},\"id\":\"40452f61-43cf-4b91-a780-2e4e657bfa3f\",\"type\":\"AdaptiveTicker\"},{\"attributes\":{\"days\":[1,2,3,4,5,6,7,8,9,10,11,12,13,14,15,16,17,18,19,20,21,22,23,24,25,26,27,28,29,30,31]},\"id\":\"e8f83fc3-6fab-425c-9eb4-e42801bbe2d2\",\"type\":\"DaysTicker\"},{\"attributes\":{},\"id\":\"2da1a9d7-388d-4f72-8f1c-08fbca99c55f\",\"type\":\"DatetimeTickFormatter\"},{\"attributes\":{\"days\":[1,8,15,22]},\"id\":\"03b5f6cd-d110-45dc-9336-dbc52ec131a7\",\"type\":\"DaysTicker\"},{\"attributes\":{\"line_alpha\":{\"value\":0.1},\"line_color\":{\"value\":\"#1f77b4\"},\"line_width\":{\"value\":2},\"x\":{\"field\":\"x\"},\"y\":{\"field\":\"y\"}},\"id\":\"6f60b45c-efa8-4317-8f7f-a90cfa4f334c\",\"type\":\"Line\"},{\"attributes\":{\"months\":[0,4,8]},\"id\":\"b663b2b8-741a-4a2e-bf5b-3c5018046dcc\",\"type\":\"MonthsTicker\"},{\"attributes\":{\"items\":[{\"id\":\"711bc166-45b7-4325-8b72-28cccb16a60f\",\"type\":\"LegendItem\"}],\"plot\":{\"id\":\"a52f5900-27e9-465e-b993-b318dab0687e\",\"subtype\":\"Figure\",\"type\":\"Plot\"}},\"id\":\"a9745714-218b-45b8-ba46-3ba8fcd68189\",\"type\":\"Legend\"},{\"attributes\":{\"months\":[0,1,2,3,4,5,6,7,8,9,10,11]},\"id\":\"5e4b4699-300e-4719-8ea8-926233fd25d9\",\"type\":\"MonthsTicker\"},{\"attributes\":{\"callback\":null},\"id\":\"8c021a8e-e53b-438f-8790-04439b30229e\",\"type\":\"DataRange1d\"},{\"attributes\":{\"data_source\":{\"id\":\"55db3be8-1d93-4ec1-9aec-d1eb365e1d5d\",\"type\":\"ColumnDataSource\"},\"glyph\":{\"id\":\"cef75166-503a-430e-8855-94eae4fd5983\",\"type\":\"Line\"},\"hover_glyph\":null,\"nonselection_glyph\":{\"id\":\"6f60b45c-efa8-4317-8f7f-a90cfa4f334c\",\"type\":\"Line\"},\"selection_glyph\":null},\"id\":\"aad2f603-5aa1-4ea5-b04d-858bacb10523\",\"type\":\"GlyphRenderer\"},{\"attributes\":{\"dimension\":1,\"plot\":{\"id\":\"a52f5900-27e9-465e-b993-b318dab0687e\",\"subtype\":\"Figure\",\"type\":\"Plot\"},\"ticker\":{\"id\":\"8bd3f218-cdf1-49be-b87f-89873bdce093\",\"type\":\"BasicTicker\"}},\"id\":\"b3ebe9c4-5ffa-4c3d-a81a-a5feb590066b\",\"type\":\"Grid\"},{\"attributes\":{\"formatter\":{\"id\":\"82302580-1a6a-483f-881c-1124c8de7bb7\",\"type\":\"BasicTickFormatter\"},\"plot\":{\"id\":\"a52f5900-27e9-465e-b993-b318dab0687e\",\"subtype\":\"Figure\",\"type\":\"Plot\"},\"ticker\":{\"id\":\"8bd3f218-cdf1-49be-b87f-89873bdce093\",\"type\":\"BasicTicker\"}},\"id\":\"cbbbc0e2-078d-42b4-af8e-476bf6fa3b3b\",\"type\":\"LinearAxis\"},{\"attributes\":{\"label\":{\"value\":\"AAPL:close\"},\"renderers\":[{\"id\":\"aad2f603-5aa1-4ea5-b04d-858bacb10523\",\"type\":\"GlyphRenderer\"}]},\"id\":\"711bc166-45b7-4325-8b72-28cccb16a60f\",\"type\":\"LegendItem\"},{\"attributes\":{\"plot\":{\"id\":\"a52f5900-27e9-465e-b993-b318dab0687e\",\"subtype\":\"Figure\",\"type\":\"Plot\"}},\"id\":\"be538a26-2b6d-45dc-965c-d3822ba1e723\",\"type\":\"PanTool\"},{\"attributes\":{\"days\":[1,15]},\"id\":\"220d2605-e34d-4961-8082-6bb53dce69ef\",\"type\":\"DaysTicker\"},{\"attributes\":{},\"id\":\"8bd3f218-cdf1-49be-b87f-89873bdce093\",\"type\":\"BasicTicker\"},{\"attributes\":{\"formatter\":{\"id\":\"2da1a9d7-388d-4f72-8f1c-08fbca99c55f\",\"type\":\"DatetimeTickFormatter\"},\"plot\":{\"id\":\"a52f5900-27e9-465e-b993-b318dab0687e\",\"subtype\":\"Figure\",\"type\":\"Plot\"},\"ticker\":{\"id\":\"f93a659f-f4c3-4b13-a59f-e64bb16e31b2\",\"type\":\"DatetimeTicker\"}},\"id\":\"51c850b0-ac0d-4319-9a73-a58d31c6e163\",\"type\":\"DatetimeAxis\"},{\"attributes\":{\"bottom_units\":\"screen\",\"fill_alpha\":{\"value\":0.5},\"fill_color\":{\"value\":\"lightgrey\"},\"left_units\":\"screen\",\"level\":\"overlay\",\"line_alpha\":{\"value\":1.0},\"line_color\":{\"value\":\"black\"},\"line_dash\":[4,4],\"line_width\":{\"value\":2},\"plot\":null,\"render_mode\":\"css\",\"right_units\":\"screen\",\"top_units\":\"screen\"},\"id\":\"9a008abc-b9a4-40e1-8b75-008139bca224\",\"type\":\"BoxAnnotation\"},{\"attributes\":{\"max_interval\":500.0,\"num_minor_ticks\":0},\"id\":\"1ee902fc-ca87-4ca3-80c0-7134232abe02\",\"type\":\"AdaptiveTicker\"},{\"attributes\":{\"plot\":{\"id\":\"a52f5900-27e9-465e-b993-b318dab0687e\",\"subtype\":\"Figure\",\"type\":\"Plot\"}},\"id\":\"141db408-34ed-43cf-853c-cb829f734059\",\"type\":\"SaveTool\"},{\"attributes\":{\"months\":[0,6]},\"id\":\"7b50bf5c-cde2-4175-a759-4effc5083b3f\",\"type\":\"MonthsTicker\"},{\"attributes\":{\"months\":[0,2,4,6,8,10]},\"id\":\"d929a7ce-c01a-487c-a496-d516499774e0\",\"type\":\"MonthsTicker\"},{\"attributes\":{},\"id\":\"82302580-1a6a-483f-881c-1124c8de7bb7\",\"type\":\"BasicTickFormatter\"},{\"attributes\":{\"plot\":null,\"text\":\"QuandlWIKIStockPrices2017\"},\"id\":\"e0226591-3f1a-4658-9d4f-1b081e5fafc6\",\"type\":\"Title\"},{\"attributes\":{\"base\":24,\"mantissas\":[1,2,4,6,8,12],\"max_interval\":43200000.0,\"min_interval\":3600000.0,\"num_minor_ticks\":0},\"id\":\"ae7ac7f2-ac43-4b76-a02c-7e045e5d1ca2\",\"type\":\"AdaptiveTicker\"},{\"attributes\":{\"callback\":null,\"column_names\":[\"y\",\"x\"],\"data\":{\"x\":{\"__ndarray__\":\"AACAl2v9dUIAAED9vf11QgAAAGMQ/nVCAACALrX+dUIAAMBfrP91QgAAgMX+/3VCAABAK1EAdkIAAACRowB2QgAAwPb1AHZCAAAAKO0BdkIAAMCNPwJ2QgAAgPORAnZCAABAWeQCdkIAAAC/NgN2QgAAQPAtBHZCAAAAVoAEdkIAAMC70gR2QgAAgCElBXZCAABAh3cFdkIAAIC4bgZ2QgAAQB7BBnZCAAAAhBMHdkI=\",\"dtype\":\"float64\",\"shape\":[22]},\"y\":[169.98,173.14,174.96,174.97,174.09,173.07,169.48,171.85,171.05,169.8,169.64,169.01,169.452,169.37,172.67,171.7,172.27,172.22,173.87,176.42,174.54,174.35]}},\"id\":\"55db3be8-1d93-4ec1-9aec-d1eb365e1d5d\",\"type\":\"ColumnDataSource\"},{\"attributes\":{\"callback\":null},\"id\":\"94d3b6f6-369c-412e-bc3e-f5d051491e32\",\"type\":\"DataRange1d\"}],\"root_ids\":[\"a52f5900-27e9-465e-b993-b318dab0687e\"]},\"title\":\"BokehApplication\",\"version\":\"0.12.4\"}};varrender_items=[{\"docid\":\"5aa065b8-54b2-4db1-98d7-87deb33fd37d\",\"elementid\":\"7ea75ba1-ba88-492a-944d-804fa28ba268\",\"modelid\":\"a52f5900-27e9-465e-b993-b318dab0687e\"}];Bokeh.embed.embed_items(docs_json,render_items);});};if(document.readyState!=\"loading\")fn();elsedocument.addEventListener(\"DOMContentLoaded\",fn);})();</script>'"
      ]
     },
     "execution_count": 287,
     "metadata": {},
     "output_type": "execute_result"
    }
   ],
   "source": [
    "script.replace(\" \",\"\")"
   ]
  },
  {
   "cell_type": "code",
   "execution_count": null,
   "metadata": {
    "collapsed": true
   },
   "outputs": [],
   "source": []
  }
 ],
 "metadata": {
  "kernelspec": {
   "display_name": "Python 2",
   "language": "python",
   "name": "python2"
  },
  "language_info": {
   "codemirror_mode": {
    "name": "ipython",
    "version": 2
   },
   "file_extension": ".py",
   "mimetype": "text/x-python",
   "name": "python",
   "nbconvert_exporter": "python",
   "pygments_lexer": "ipython2",
   "version": "2.7.13"
  }
 },
 "nbformat": 4,
 "nbformat_minor": 2
}
